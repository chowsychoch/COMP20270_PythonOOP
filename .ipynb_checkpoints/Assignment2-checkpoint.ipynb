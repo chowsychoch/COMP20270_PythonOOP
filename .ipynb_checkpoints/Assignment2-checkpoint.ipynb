{
 "cells": [
  {
   "cell_type": "code",
   "execution_count": 1,
   "metadata": {},
   "outputs": [],
   "source": [
    "import pandas as pd"
   ]
  },
  {
   "cell_type": "code",
   "execution_count": 2,
   "metadata": {},
   "outputs": [],
   "source": [
    "d = {'Sun Hours': [4.5,4.0,5.1,5],\n",
    "     'Max Temp': [19.6,19.1,19.6,20.0],\n",
    "     'Min Temp': [12.7,12.5,13.3,12.1],\n",
    "     'Rain (mm)': [82,109,65,76],\n",
    "     'Rain Days': [13,20,10,9.7]}"
   ]
  },
  {
   "cell_type": "code",
   "execution_count": 3,
   "metadata": {},
   "outputs": [],
   "source": [
    "Aug_df = pd.DataFrame(d, index = ['Clare', 'Galway','Dublin', \n",
    "'Wexford'])"
   ]
  },
  {
   "cell_type": "code",
   "execution_count": 4,
   "metadata": {},
   "outputs": [
    {
     "data": {
      "text/html": [
       "<div>\n",
       "<style scoped>\n",
       "    .dataframe tbody tr th:only-of-type {\n",
       "        vertical-align: middle;\n",
       "    }\n",
       "\n",
       "    .dataframe tbody tr th {\n",
       "        vertical-align: top;\n",
       "    }\n",
       "\n",
       "    .dataframe thead th {\n",
       "        text-align: right;\n",
       "    }\n",
       "</style>\n",
       "<table border=\"1\" class=\"dataframe\">\n",
       "  <thead>\n",
       "    <tr style=\"text-align: right;\">\n",
       "      <th></th>\n",
       "      <th>Sun Hours</th>\n",
       "      <th>Max Temp</th>\n",
       "      <th>Min Temp</th>\n",
       "      <th>Rain (mm)</th>\n",
       "      <th>Rain Days</th>\n",
       "    </tr>\n",
       "  </thead>\n",
       "  <tbody>\n",
       "    <tr>\n",
       "      <th>Clare</th>\n",
       "      <td>4.5</td>\n",
       "      <td>19.6</td>\n",
       "      <td>12.7</td>\n",
       "      <td>82</td>\n",
       "      <td>13.0</td>\n",
       "    </tr>\n",
       "    <tr>\n",
       "      <th>Galway</th>\n",
       "      <td>4.0</td>\n",
       "      <td>19.1</td>\n",
       "      <td>12.5</td>\n",
       "      <td>109</td>\n",
       "      <td>20.0</td>\n",
       "    </tr>\n",
       "    <tr>\n",
       "      <th>Dublin</th>\n",
       "      <td>5.1</td>\n",
       "      <td>19.6</td>\n",
       "      <td>13.3</td>\n",
       "      <td>65</td>\n",
       "      <td>10.0</td>\n",
       "    </tr>\n",
       "    <tr>\n",
       "      <th>Wexford</th>\n",
       "      <td>5.0</td>\n",
       "      <td>20.0</td>\n",
       "      <td>12.1</td>\n",
       "      <td>76</td>\n",
       "      <td>9.7</td>\n",
       "    </tr>\n",
       "  </tbody>\n",
       "</table>\n",
       "</div>"
      ],
      "text/plain": [
       "         Sun Hours  Max Temp  Min Temp  Rain (mm)  Rain Days\n",
       "Clare          4.5      19.6      12.7         82       13.0\n",
       "Galway         4.0      19.1      12.5        109       20.0\n",
       "Dublin         5.1      19.6      13.3         65       10.0\n",
       "Wexford        5.0      20.0      12.1         76        9.7"
      ]
     },
     "execution_count": 4,
     "metadata": {},
     "output_type": "execute_result"
    }
   ],
   "source": [
    "Aug_df"
   ]
  },
  {
   "cell_type": "code",
   "execution_count": 5,
   "metadata": {},
   "outputs": [
    {
     "data": {
      "text/html": [
       "<div>\n",
       "<style scoped>\n",
       "    .dataframe tbody tr th:only-of-type {\n",
       "        vertical-align: middle;\n",
       "    }\n",
       "\n",
       "    .dataframe tbody tr th {\n",
       "        vertical-align: top;\n",
       "    }\n",
       "\n",
       "    .dataframe thead th {\n",
       "        text-align: right;\n",
       "    }\n",
       "</style>\n",
       "<table border=\"1\" class=\"dataframe\">\n",
       "  <thead>\n",
       "    <tr style=\"text-align: right;\">\n",
       "      <th></th>\n",
       "      <th>Sun Hours</th>\n",
       "      <th>Max Temp</th>\n",
       "      <th>Min Temp</th>\n",
       "      <th>Rain (mm)</th>\n",
       "      <th>Rain Days</th>\n",
       "    </tr>\n",
       "  </thead>\n",
       "  <tbody>\n",
       "    <tr>\n",
       "      <th>Wexford</th>\n",
       "      <td>5.0</td>\n",
       "      <td>20.0</td>\n",
       "      <td>12.1</td>\n",
       "      <td>76</td>\n",
       "      <td>9.7</td>\n",
       "    </tr>\n",
       "    <tr>\n",
       "      <th>Dublin</th>\n",
       "      <td>5.1</td>\n",
       "      <td>19.6</td>\n",
       "      <td>13.3</td>\n",
       "      <td>65</td>\n",
       "      <td>10.0</td>\n",
       "    </tr>\n",
       "    <tr>\n",
       "      <th>Clare</th>\n",
       "      <td>4.5</td>\n",
       "      <td>19.6</td>\n",
       "      <td>12.7</td>\n",
       "      <td>82</td>\n",
       "      <td>13.0</td>\n",
       "    </tr>\n",
       "    <tr>\n",
       "      <th>Galway</th>\n",
       "      <td>4.0</td>\n",
       "      <td>19.1</td>\n",
       "      <td>12.5</td>\n",
       "      <td>109</td>\n",
       "      <td>20.0</td>\n",
       "    </tr>\n",
       "  </tbody>\n",
       "</table>\n",
       "</div>"
      ],
      "text/plain": [
       "         Sun Hours  Max Temp  Min Temp  Rain (mm)  Rain Days\n",
       "Wexford        5.0      20.0      12.1         76        9.7\n",
       "Dublin         5.1      19.6      13.3         65       10.0\n",
       "Clare          4.5      19.6      12.7         82       13.0\n",
       "Galway         4.0      19.1      12.5        109       20.0"
      ]
     },
     "execution_count": 5,
     "metadata": {},
     "output_type": "execute_result"
    }
   ],
   "source": [
    "Aug_df.sort_values('Rain Days')\n"
   ]
  },
  {
   "cell_type": "code",
   "execution_count": 6,
   "metadata": {},
   "outputs": [
    {
     "data": {
      "text/plain": [
       "Sun Hours      5.1\n",
       "Max Temp      20.0\n",
       "Min Temp      13.3\n",
       "Rain (mm)    109.0\n",
       "Rain Days     20.0\n",
       "dtype: float64"
      ]
     },
     "execution_count": 6,
     "metadata": {},
     "output_type": "execute_result"
    }
   ],
   "source": [
    "Aug_df.max()"
   ]
  },
  {
   "cell_type": "code",
   "execution_count": 7,
   "metadata": {},
   "outputs": [],
   "source": [
    "Aug_d = pd.DataFrame(data=[0,1,2], index = ['a','b','c'])\n"
   ]
  },
  {
   "cell_type": "code",
   "execution_count": 8,
   "metadata": {},
   "outputs": [
    {
     "data": {
      "text/html": [
       "<div>\n",
       "<style scoped>\n",
       "    .dataframe tbody tr th:only-of-type {\n",
       "        vertical-align: middle;\n",
       "    }\n",
       "\n",
       "    .dataframe tbody tr th {\n",
       "        vertical-align: top;\n",
       "    }\n",
       "\n",
       "    .dataframe thead th {\n",
       "        text-align: right;\n",
       "    }\n",
       "</style>\n",
       "<table border=\"1\" class=\"dataframe\">\n",
       "  <thead>\n",
       "    <tr style=\"text-align: right;\">\n",
       "      <th></th>\n",
       "      <th>0</th>\n",
       "    </tr>\n",
       "  </thead>\n",
       "  <tbody>\n",
       "    <tr>\n",
       "      <th>a</th>\n",
       "      <td>0</td>\n",
       "    </tr>\n",
       "    <tr>\n",
       "      <th>b</th>\n",
       "      <td>1</td>\n",
       "    </tr>\n",
       "    <tr>\n",
       "      <th>c</th>\n",
       "      <td>2</td>\n",
       "    </tr>\n",
       "  </tbody>\n",
       "</table>\n",
       "</div>"
      ],
      "text/plain": [
       "   0\n",
       "a  0\n",
       "b  1\n",
       "c  2"
      ]
     },
     "execution_count": 8,
     "metadata": {},
     "output_type": "execute_result"
    }
   ],
   "source": [
    "Aug_d"
   ]
  },
  {
   "cell_type": "markdown",
   "metadata": {},
   "source": [
    "```Python\n",
    "    def s_dict(self):\n",
    "        for i in self.index:\n",
    "            print(i)\n",
    "            for d in self.data:\n",
    "                self.dict[i] = d\n",
    "                print('before remove',d)\n",
    "                self.data.remove(d)\n",
    "                print(d)\n",
    "                print(self.data)\n",
    "```"
   ]
  },
  {
   "cell_type": "markdown",
   "metadata": {},
   "source": [
    "```Python\n",
    "self.index = [a,b,c]\n",
    "self.data = [0,1,2]\n",
    "\n",
    "loop a \n",
    "0\n",
    "1\n",
    "2\n",
    "loop b\n",
    "0\n",
    "1\n",
    "2\n",
    "loop c \n",
    "0\n",
    "1\n",
    "2\n",
    "\n",
    " def s_dict(self):\n",
    "        for i in self.index:\n",
    "            for d in self.data:\n",
    "                self.dict[i] = d\n",
    "                self.data.remove(d)\n",
    "loop a index 0  \n",
    "[0,1,2]\n",
    "after remove : [1,2]\n",
    "\n",
    "loop a index 1 \n",
    "[1,2]\n",
    "after remove: [1]\n",
    "becasue index is increment and list is remove \n",
    "```"
   ]
  },
  {
   "cell_type": "code",
   "execution_count": 4,
   "metadata": {},
   "outputs": [],
   "source": [
    "class MySeries:\n",
    "    def __init__(self,data,index=[]):\n",
    "        #instance call will call method to set s_dict \n",
    "        self.s_dict_v2(data,index)\n",
    "\n",
    "    def print(self): \n",
    "        for index in self.index:\n",
    "                print(index, '   ',self.item_at_ind(index))\n",
    "\n",
    "        \n",
    "            \n",
    "    def s_dict_v2(self,data,index):\n",
    "#         print('setting s_dict')\n",
    "        #if data is dict type, can pass it directly to self.data\n",
    "        if type(data) == dict:\n",
    "            self.s_dict = data\n",
    "            self.index = list(data.keys()) \n",
    "        else:#not a dict type then should be a list type \n",
    "            #if index is empty, remake it a dict with default index 0,1,2,3,4...n \n",
    "            if not index:\n",
    "                self.s_dict = dict(enumerate(data))\n",
    "                ## to make a index list so print method can use \n",
    "                self.index = list(self.s_dict.keys()) \n",
    "            else: # if index has input, match the index with data and form dict \n",
    "                self.s_dict = dict(zip(index,data))\n",
    "                # add an index \n",
    "                self.index = list(self.s_dict.keys()) \n",
    "    \n",
    "\n",
    "    def min(self):\n",
    "        return min(self.s_dict.values())\n",
    "    \n",
    "    def max(self):\n",
    "        return max(self.s_dict.values())\n",
    "    \n",
    "    def mean(self):\n",
    "        return float(sum(self.s_dict.values())/ len(self.s_dict))\n",
    "    \n",
    "    def item_at_ind(self,char):\n",
    "        if type(self.s_dict) == list:\n",
    "            return self.s_dict.index(char)\n",
    "        else:\n",
    "            return self.s_dict.get(char)\n",
    "\n",
    "#     @property \n",
    "#     def s_dict(self):\n",
    "#         return self.s_dict\n",
    "    \n",
    "#     @s_dict.setter\n",
    "#     def s_dict(self,data,index):\n",
    "#         print('setting s_dict')\n",
    "#         if type(data) == dict:\n",
    "#             self.s_dict = data\n",
    "#         else:\n",
    "# #             self.s_dict = dict(zip(self.index,self.data))\n",
    "#               self.s_dict = dict(zip(index,data))\n",
    "    \n",
    "    "
   ]
  },
  {
   "cell_type": "code",
   "execution_count": 5,
   "metadata": {},
   "outputs": [],
   "source": [
    "# class MySeries:\n",
    "#     def __init__(self,data,index=[0,1,2]):\n",
    "#         self.index = index\n",
    "#         #instance call will call method to set s_dict \n",
    "#         self.s_dict = dict()\n",
    "#         self.s_dict_v2(data,index)\n",
    "\n",
    "#     def print(self): \n",
    "#         for index in self.index:\n",
    "#                 print(index, '   ',self.item_at_ind(index),sep=\"\")\n",
    "        \n",
    "#     def s_dict_v2(self,data,index):\n",
    "#         print('setting s_dict')\n",
    "#         if type(data) == dict:\n",
    "#             for item in data:\n",
    "#                 self.s_dict[item] = data[item]\n",
    "#                 print(self.s_dict)\n",
    "            \n",
    "#             for key in self.s_dict:\n",
    "                \n",
    "#         else:\n",
    "# #             self.s_dict = dict(zip(self.index,self.data))\n",
    "#             self.s_dict = dict(zip(index,data))\n",
    "#     def get_s_dict(self):\n",
    "#         print('getting')\n",
    "#         print(self.s_dict)\n",
    "#         return self.s_dict\n",
    "\n",
    "#     def min(self):\n",
    "#         return min(self.s_dict.values())\n",
    "    \n",
    "#     def max(self):\n",
    "#         return max(self.s_dict.values())\n",
    "    \n",
    "#     def mean(self):\n",
    "#         return float(sum(self.s_dict.values())/ len(self.s_dict))\n",
    "    \n",
    "#     def item_at_ind(self,char):\n",
    "# #         print(char)\n",
    "# #         a = self.s_dict[char]\n",
    "# #         print(a)\n",
    "#         return self.s_dict[char]\n",
    "\n",
    "# #     @property \n",
    "# #     def s_dict(self):\n",
    "# #         return self.s_dict\n",
    "    \n",
    "# #     @s_dict.setter\n",
    "# #     def s_dict(self,data,index):\n",
    "# #         print('setting s_dict')\n",
    "# #         if type(data) == dict:\n",
    "# #             self.s_dict = data\n",
    "# #         else:\n",
    "# # #             self.s_dict = dict(zip(self.index,self.data))\n",
    "# #               self.s_dict = dict(zip(index,data))\n",
    "    \n",
    "    "
   ]
  },
  {
   "cell_type": "code",
   "execution_count": 6,
   "metadata": {},
   "outputs": [],
   "source": [
    "ms3 = MySeries([1,2,1], index = ['a','b','c'])"
   ]
  },
  {
   "cell_type": "code",
   "execution_count": 7,
   "metadata": {},
   "outputs": [
    {
     "data": {
      "text/plain": [
       "{'s_dict': {'a': 1, 'b': 2, 'c': 1}, 'index': ['a', 'b', 'c']}"
      ]
     },
     "execution_count": 7,
     "metadata": {},
     "output_type": "execute_result"
    }
   ],
   "source": [
    "ms3.__dict__"
   ]
  },
  {
   "cell_type": "code",
   "execution_count": 8,
   "metadata": {},
   "outputs": [
    {
     "data": {
      "text/plain": [
       "{'a': 1, 'b': 2, 'c': 1}"
      ]
     },
     "execution_count": 8,
     "metadata": {},
     "output_type": "execute_result"
    }
   ],
   "source": [
    "ms3.s_dict"
   ]
  },
  {
   "cell_type": "code",
   "execution_count": 9,
   "metadata": {},
   "outputs": [
    {
     "data": {
      "text/plain": [
       "{'s_dict': {'a': 1, 'b': 2, 'c': 1}, 'index': ['a', 'b', 'c']}"
      ]
     },
     "execution_count": 9,
     "metadata": {},
     "output_type": "execute_result"
    }
   ],
   "source": [
    "ms3.__dict__"
   ]
  },
  {
   "cell_type": "code",
   "execution_count": 10,
   "metadata": {},
   "outputs": [
    {
     "name": "stdout",
     "output_type": "stream",
     "text": [
      "a     1\n",
      "b     2\n",
      "c     1\n"
     ]
    }
   ],
   "source": [
    "ms3.print()"
   ]
  },
  {
   "cell_type": "code",
   "execution_count": 11,
   "metadata": {},
   "outputs": [
    {
     "data": {
      "text/plain": [
       "1"
      ]
     },
     "execution_count": 11,
     "metadata": {},
     "output_type": "execute_result"
    }
   ],
   "source": [
    "ms3.item_at_ind('c')"
   ]
  },
  {
   "cell_type": "code",
   "execution_count": 12,
   "metadata": {},
   "outputs": [
    {
     "data": {
      "text/plain": [
       "1.3333333333333333"
      ]
     },
     "execution_count": 12,
     "metadata": {},
     "output_type": "execute_result"
    }
   ],
   "source": [
    "ms3.mean()"
   ]
  },
  {
   "cell_type": "code",
   "execution_count": 13,
   "metadata": {},
   "outputs": [],
   "source": [
    "ms4 = MySeries([4,5,6])"
   ]
  },
  {
   "cell_type": "code",
   "execution_count": 14,
   "metadata": {},
   "outputs": [
    {
     "data": {
      "text/plain": [
       "{0: 4, 1: 5, 2: 6}"
      ]
     },
     "execution_count": 14,
     "metadata": {},
     "output_type": "execute_result"
    }
   ],
   "source": [
    "ms4.s_dict"
   ]
  },
  {
   "cell_type": "code",
   "execution_count": 15,
   "metadata": {},
   "outputs": [
    {
     "data": {
      "text/plain": [
       "{'s_dict': {0: 4, 1: 5, 2: 6}, 'index': [0, 1, 2]}"
      ]
     },
     "execution_count": 15,
     "metadata": {},
     "output_type": "execute_result"
    }
   ],
   "source": [
    "ms4.__dict__"
   ]
  },
  {
   "cell_type": "code",
   "execution_count": 16,
   "metadata": {},
   "outputs": [
    {
     "name": "stdout",
     "output_type": "stream",
     "text": [
      "0     4\n",
      "1     5\n",
      "2     6\n"
     ]
    }
   ],
   "source": [
    "ms4.print()"
   ]
  },
  {
   "cell_type": "code",
   "execution_count": 17,
   "metadata": {},
   "outputs": [],
   "source": [
    "d = {'b': 1, 'a': 0, 'c': 2}"
   ]
  },
  {
   "cell_type": "code",
   "execution_count": 18,
   "metadata": {},
   "outputs": [],
   "source": [
    "s2 = MySeries(d)"
   ]
  },
  {
   "cell_type": "code",
   "execution_count": 19,
   "metadata": {},
   "outputs": [
    {
     "data": {
      "text/plain": [
       "{'b': 1, 'a': 0, 'c': 2}"
      ]
     },
     "execution_count": 19,
     "metadata": {},
     "output_type": "execute_result"
    }
   ],
   "source": [
    "s2.s_dict"
   ]
  },
  {
   "cell_type": "code",
   "execution_count": 20,
   "metadata": {},
   "outputs": [
    {
     "data": {
      "text/plain": [
       "{'s_dict': {'b': 1, 'a': 0, 'c': 2}, 'index': ['b', 'a', 'c']}"
      ]
     },
     "execution_count": 20,
     "metadata": {},
     "output_type": "execute_result"
    }
   ],
   "source": [
    "s2.__dict__"
   ]
  },
  {
   "cell_type": "code",
   "execution_count": 21,
   "metadata": {},
   "outputs": [
    {
     "name": "stdout",
     "output_type": "stream",
     "text": [
      "b     1\n",
      "a     0\n",
      "c     2\n"
     ]
    }
   ],
   "source": [
    "s2.print()"
   ]
  },
  {
   "cell_type": "code",
   "execution_count": 6,
   "metadata": {},
   "outputs": [],
   "source": [
    "class MyDataFrame:\n",
    "    def __init__(self, data, index =['Clare', 'Galway','Dublin','Wexford']):\n",
    "        self.inner_dict = dict()\n",
    "        self.index = index\n",
    "        for key ,value in data.items():\n",
    "            self.inner_dict[key] = MySeries(value, index)\n",
    "        \n",
    "        \n",
    "    def print(self):\n",
    "        # take the keys out \n",
    "        header_words = self.inner_dict.keys()\n",
    "        #make the keys out and rearrange into string form\n",
    "        header_words = \"\\t\"+\"\\t\".join(header_words)\n",
    "        print(header_words)\n"
   ]
  },
  {
   "cell_type": "code",
   "execution_count": 7,
   "metadata": {},
   "outputs": [],
   "source": [
    "d = {'Sun Hours': [4.5,4.0,5.1,5],\n",
    "     'Max Temp': [19.6,19.1,19.6,20.0],\n",
    "     'Min Temp': [12.7,12.5,13.3,12.1],\n",
    "     'Rain (mm)': [82,109,65,76],\n",
    "     'Rain Days': [13,20,10,9.7]}\n"
   ]
  },
  {
   "cell_type": "code",
   "execution_count": 8,
   "metadata": {},
   "outputs": [
    {
     "name": "stdout",
     "output_type": "stream",
     "text": [
      "4\n"
     ]
    }
   ],
   "source": [
    "print(len(d[list(d.keys())[0]]))"
   ]
  },
  {
   "cell_type": "code",
   "execution_count": 11,
   "metadata": {},
   "outputs": [
    {
     "name": "stdout",
     "output_type": "stream",
     "text": [
      "[4.5, 4.0, 5.1, 5]\n",
      "4.5\n",
      "4.0\n",
      "5.1\n",
      "5\n",
      "[19.6, 19.1, 19.6, 20.0]\n",
      "19.6\n",
      "19.1\n",
      "19.6\n",
      "20.0\n",
      "[12.7, 12.5, 13.3, 12.1]\n",
      "12.7\n",
      "12.5\n",
      "13.3\n",
      "12.1\n",
      "[82, 109, 65, 76]\n",
      "82\n",
      "109\n",
      "65\n",
      "76\n",
      "[13, 20, 10, 9.7]\n",
      "13\n",
      "20\n",
      "10\n",
      "9.7\n"
     ]
    }
   ],
   "source": [
    "a = dict()\n",
    "for key,value in d.items():\n",
    "    print(value)\n",
    "    for v in value:\n",
    "        print(v)\n",
    "        \n",
    "    \n"
   ]
  },
  {
   "cell_type": "code",
   "execution_count": 10,
   "metadata": {},
   "outputs": [
    {
     "name": "stdout",
     "output_type": "stream",
     "text": [
      "0\n",
      "4.5\n",
      "19.6\n",
      "12.7\n",
      "82\n",
      "13\n",
      "1\n",
      "4.0\n",
      "19.1\n",
      "12.5\n",
      "109\n",
      "20\n",
      "2\n",
      "5.1\n",
      "19.6\n",
      "13.3\n",
      "65\n",
      "10\n",
      "3\n",
      "5\n",
      "20.0\n",
      "12.1\n",
      "76\n",
      "9.7\n",
      "[4.5, 19.6, 12.7, 82, 13, 4.0, 19.1, 12.5, 109, 20, 5.1, 19.6, 13.3, 65, 10, 5, 20.0, 12.1, 76, 9.7]\n"
     ]
    }
   ],
   "source": [
    "a = list()\n",
    "for i in range (len(d[list(d.keys())[0]])):\n",
    "    print(i)\n",
    "    for key,value in d.items():\n",
    "        print(value[i])\n",
    "        a.append(value[i])\n",
    "\n",
    "print(a)\n",
    "        \n"
   ]
  },
  {
   "cell_type": "code",
   "execution_count": 303,
   "metadata": {},
   "outputs": [
    {
     "name": "stdout",
     "output_type": "stream",
     "text": [
      "dict_items([('Sun Hours', [4.5, 4.0, 5.1, 5]), ('Max Temp', [19.6, 19.1, 19.6, 20.0]), ('Min Temp', [12.7, 12.5, 13.3, 12.1]), ('Rain (mm)', [82, 109, 65, 76]), ('Rain Days', [13, 20, 10, 9.7])])\n",
      "****\n",
      "[('Sun Hours', [4.5, 4.0, 5.1, 5]), ('Max Temp', [19.6, 19.1, 19.6, 20.0]), ('Min Temp', [12.7, 12.5, 13.3, 12.1]), ('Rain (mm)', [82, 109, 65, 76]), ('Rain Days', [13, 20, 10, 9.7])]\n"
     ]
    }
   ],
   "source": [
    "df1 = MyDataFrame(d)"
   ]
  },
  {
   "cell_type": "code",
   "execution_count": 304,
   "metadata": {},
   "outputs": [
    {
     "data": {
      "text/plain": [
       "{'inner_dict': {'Sun Hours': <__main__.MySeries at 0x7fc311611a90>,\n",
       "  'Max Temp': <__main__.MySeries at 0x7fc310dda590>,\n",
       "  'Min Temp': <__main__.MySeries at 0x7fc310cb5c90>,\n",
       "  'Rain (mm)': <__main__.MySeries at 0x7fc310cb5cd0>,\n",
       "  'Rain Days': <__main__.MySeries at 0x7fc310cb5890>},\n",
       " 'index': ['Clare', 'Galway', 'Dublin', 'Wexford']}"
      ]
     },
     "execution_count": 304,
     "metadata": {},
     "output_type": "execute_result"
    }
   ],
   "source": [
    "df1.__dict__"
   ]
  },
  {
   "cell_type": "code",
   "execution_count": 305,
   "metadata": {},
   "outputs": [
    {
     "name": "stdout",
     "output_type": "stream",
     "text": [
      "\tSun Hours\tMax Temp\tMin Temp\tRain (mm)\tRain Days\n"
     ]
    }
   ],
   "source": [
    "df1.print()"
   ]
  },
  {
   "cell_type": "code",
   "execution_count": 280,
   "metadata": {},
   "outputs": [
    {
     "data": {
      "text/plain": [
       "{'inner_dict': {'Sun Hours': <__main__.MySeries at 0x7fc30f8e77d0>,\n",
       "  'Max Temp': <__main__.MySeries at 0x7fc30f8f6110>,\n",
       "  'Min Temp': <__main__.MySeries at 0x7fc30f8f6090>,\n",
       "  'Rain (mm)': <__main__.MySeries at 0x7fc30f8f62d0>,\n",
       "  'Rain Days': <__main__.MySeries at 0x7fc30f8f6590>},\n",
       " 'index': ['Clare', 'Galway', 'Dublin', 'Wexford']}"
      ]
     },
     "execution_count": 280,
     "metadata": {},
     "output_type": "execute_result"
    }
   ],
   "source": [
    "df1.__dict__"
   ]
  },
  {
   "cell_type": "code",
   "execution_count": 177,
   "metadata": {},
   "outputs": [
    {
     "name": "stdout",
     "output_type": "stream",
     "text": [
      "dict_items([('Sun Hours', [4.5, 4.0, 5.1, 5]), ('Max Temp', [19.6, 19.1, 19.6, 20.0]), ('Min Temp', [12.7, 12.5, 13.3, 12.1]), ('Rain (mm)', [82, 109, 65, 76]), ('Rain Days', [13, 20, 10, 9.7])])\n",
      "****\n",
      "[('Sun Hours', [4.5, 4.0, 5.1, 5]), ('Max Temp', [19.6, 19.1, 19.6, 20.0]), ('Min Temp', [12.7, 12.5, 13.3, 12.1]), ('Rain (mm)', [82, 109, 65, 76]), ('Rain Days', [13, 20, 10, 9.7])]\n"
     ]
    }
   ],
   "source": [
    "df1 = MyDataFrame(d)"
   ]
  },
  {
   "cell_type": "code",
   "execution_count": null,
   "metadata": {},
   "outputs": [],
   "source": [
    "df1.d_dict"
   ]
  },
  {
   "cell_type": "code",
   "execution_count": null,
   "metadata": {},
   "outputs": [],
   "source": [
    "https://www.kite.com/python/answers/how-to-print-a-list-of-lists-in-columns-in-python"
   ]
  },
  {
   "cell_type": "code",
   "execution_count": null,
   "metadata": {},
   "outputs": [],
   "source": [
    "https://stackoverflow.com/questions/39032720/formatting-lists-into-columns-of-a-table-output-python-3"
   ]
  },
  {
   "cell_type": "code",
   "execution_count": null,
   "metadata": {},
   "outputs": [],
   "source": [
    "https://stackoverflow.com/questions/39032720/formatting-lists-into-columns-of-a-table-output-python-3"
   ]
  },
  {
   "cell_type": "code",
   "execution_count": null,
   "metadata": {},
   "outputs": [],
   "source": [
    "class MyDataFrame:\n",
    "    def __init__(self,d, **kwargs):\n",
    "        #check d is a dictionary \n",
    "        if isinstance(d,dict):\n",
    "            self.dict = d\n",
    "            #Create columns dictionary \n",
    "            self.columns = {}\n",
    "            #if index is entered\n",
    "            if 'index' in kwargs:\n",
    "                #copy index list\n",
    "                self.ind = kwargs['index']\n",
    "                for k in self.dict\n",
    "                #Create MySeries for each key-value pair and add to column dictionary \n",
    "                col = MySeries(self.dict[k], index=self.ind)\n",
    "                self.column[k] = col\n",
    "            #else if no index is entered\n",
    "            else:\n",
    "                for k in self.dict:\n",
    "                    col = MySeries(self.dict[k])\n",
    "                    self.column[k] = col\n",
    "                #create index list\n",
    "                self.ind = []\n",
    "                for i in range(len(list(self.dict.values())[0])):\n",
    "                    self.ind += [i]\n",
    "            #create rows dictionary \n",
    "            self.rows = {}\n",
    "            #for each index value\n",
    "            for i in range(len(self.ind)):\n",
    "                row = [] \n",
    "                #Add the ith value from eacg column to a row \n",
    "                for k in self.dict:\n",
    "                    row += [self.dict[k][i]]\n",
    "                #add row to rows dictionary \n",
    "                self.rows[self.ind[i]] = row\n",
    "        else:\n",
    "            print('Error')\n",
    "            \n",
    "    \n",
    "    def print(self):\n",
    "        #print column\n",
    "        print('{:<10}'.format(''), end=\"\")\n",
    "        "
   ]
  }
 ],
 "metadata": {
  "kernelspec": {
   "display_name": "Python 3",
   "language": "python",
   "name": "python3"
  },
  "language_info": {
   "codemirror_mode": {
    "name": "ipython",
    "version": 3
   },
   "file_extension": ".py",
   "mimetype": "text/x-python",
   "name": "python",
   "nbconvert_exporter": "python",
   "pygments_lexer": "ipython3",
   "version": "3.7.6"
  }
 },
 "nbformat": 4,
 "nbformat_minor": 4
}
