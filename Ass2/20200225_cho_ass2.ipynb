{
 "cells": [
  {
   "cell_type": "code",
   "execution_count": null,
   "metadata": {},
   "outputs": [],
   "source": [
    "class MySeries:\n",
    "    def __init__(self,data,index=None):\n",
    "        #instance call will call method to set s_dict \n",
    "        self.s_dict_v2(data,index)\n",
    "\n",
    "    def print(self): \n",
    "        for index in self.index:\n",
    "                print(index, '   ',self.item_at_ind(index))\n",
    "            \n",
    "    def s_dict_v2(self,data,index):\n",
    "        #if data is dict type, can pass it directly to self.data\n",
    "        if isinstance (data, dict):\n",
    "            #copy to attribute s_dict\n",
    "            self.s_dict = data\n",
    "            self.index = list(data.keys()) \n",
    "            \n",
    "        else:#not a dict type then should be a list type \n",
    "            #if index is empty, remake it a dict with default index 0,1,2,3,4...n \n",
    "            if index is None:\n",
    "                self.s_dict = dict(enumerate(data))\n",
    "                ## to make a index list so print method can use \n",
    "                self.index = list(self.s_dict.keys()) \n",
    "            else: # if index has input, match the index with data and form dict \n",
    "                self.s_dict = dict(zip(index,data))\n",
    "                # add an index \n",
    "                self.index = index\n",
    "                \n",
    "    def get_dict(self):\n",
    "        return self.s_dict\n",
    "\n",
    "    def min(self):\n",
    "        return min(self.s_dict.values())\n",
    "    \n",
    "    def max(self):\n",
    "        return max(self.s_dict.values())\n",
    "    \n",
    "    def mean(self):\n",
    "        return float(sum(self.s_dict.values())/ len(self.s_dict))\n",
    "    \n",
    "    def item_at_ind(self,char):\n",
    "            return self.s_dict.get(char)\n",
    "\n"
   ]
  },
  {
   "cell_type": "code",
   "execution_count": null,
   "metadata": {},
   "outputs": [],
   "source": [
    "ms3 = MySeries([1,2,1], index = ['a','b','c'])"
   ]
  },
  {
   "cell_type": "code",
   "execution_count": null,
   "metadata": {},
   "outputs": [],
   "source": [
    "{'a': 1, 'b': 2, 'c': 1}"
   ]
  },
  {
   "cell_type": "code",
   "execution_count": null,
   "metadata": {},
   "outputs": [],
   "source": [
    "ms4 = MySeries([4,5,6])"
   ]
  },
  {
   "cell_type": "code",
   "execution_count": null,
   "metadata": {},
   "outputs": [],
   "source": [
    "ms4.s_dict"
   ]
  },
  {
   "cell_type": "code",
   "execution_count": null,
   "metadata": {},
   "outputs": [],
   "source": [
    "d = {'b': 1, 'a': 0, 'c': 2}"
   ]
  },
  {
   "cell_type": "code",
   "execution_count": null,
   "metadata": {},
   "outputs": [],
   "source": [
    "s2 = MySeries(d)"
   ]
  },
  {
   "cell_type": "code",
   "execution_count": null,
   "metadata": {},
   "outputs": [],
   "source": [
    "s2.s_dict"
   ]
  },
  {
   "cell_type": "code",
   "execution_count": null,
   "metadata": {},
   "outputs": [],
   "source": [
    "ms3 = MySeries([1,2,1], index = ['a','b','c'])"
   ]
  },
  {
   "cell_type": "code",
   "execution_count": null,
   "metadata": {},
   "outputs": [],
   "source": [
    "ms3.print()"
   ]
  },
  {
   "cell_type": "code",
   "execution_count": null,
   "metadata": {},
   "outputs": [],
   "source": [
    "ms3.item_at_ind('c')"
   ]
  },
  {
   "cell_type": "code",
   "execution_count": null,
   "metadata": {},
   "outputs": [],
   "source": [
    "class MyDataFrame:\n",
    "    \n",
    "    def __init__(self, d, index= None):\n",
    "        #assign input d as self.data\n",
    "        self.dict = d \n",
    "        #if d is dict \n",
    "        if isinstance(d,dict):\n",
    "            #if no index provided\n",
    "            if index is not None:\n",
    "                #copy input to self.index \n",
    "                self.index = index\n",
    "                index_len = len(list(d.values())[0])\n",
    "            else:\n",
    "                # find the index number\n",
    "                index_len = len(list(d.values())[0])\n",
    "                self.index = []\n",
    "                for i in range (index_len):\n",
    "                    self.index += [i]\n",
    "            #create empy dict for column \n",
    "            self.col = {}\n",
    "            #assign key of input data as key of col and value of col as Myseries class\n",
    "            for key, value in d.items():\n",
    "                self.col[key] = MySeries(value, self.index)\n",
    "            \n",
    "            # create a row dict\n",
    "            self.row = {}\n",
    "            #loop over index list \n",
    "            for i in range (index_len):\n",
    "                row = []\n",
    "                #loop over dict list \n",
    "                for k in self.dict:\n",
    "                    #assign the value of indexlist as key of row dict and value as first index of list of value in a dict. \n",
    "                    row += [self.dict[k][i]]\n",
    "                self.row[self.index[i]] = row \n",
    "        else:\n",
    "            print('Error, not a correct input given')\n",
    "            \n",
    "    def print(self):\n",
    "#         take the keys out \n",
    "        header_words = self.col.keys()\n",
    "#         print(header_words)\n",
    "        #make the keys out and rearrange into string form\n",
    "        header_words = \"\\t\"+\"\\t\".join(header_words)\n",
    "        print(header_words)\n",
    "\n",
    "        # print row \n",
    "        rows = self.row.values()\n",
    "        for key, values in self.row.items():\n",
    "            #print out index \n",
    "            print(key, end='\\t')\n",
    "            #print out value of list \n",
    "            for value in values:\n",
    "                print(value , end =\"\\t\\t\")\n",
    "            print('')\n",
    "        \n",
    "    \n",
    "    def sort_values(self, col_key=None):\n",
    "        if col_key is None:\n",
    "            print('It should not be empty')\n",
    "        elif col_key not in self.col.keys():\n",
    "            print('Wrong key is given!')\n",
    "        else:\n",
    "            #put the col_key to get the value of self.column\n",
    "            mySeries_dict = self.col[col_key].get_dict()\n",
    "            mySeries_dict = mySeries_dict.items()\n",
    "            #sort the value desc\n",
    "            sorted_row = sorted(mySeries_dict, key= lambda item: item[1] ,reverse=True)\n",
    "            #create old_row to store the current self.row\n",
    "            old_row = self.row\n",
    "            #create a empty dict for sorting\n",
    "            self.row = { }\n",
    "            #extract a list result to get a first index \n",
    "            firstidx_list =[key[0] for key in sorted_row]\n",
    "            #  loop over the key of sorted result \n",
    "            for key in firstidx_list:\n",
    "                self.row[key] = old_row[key]\n",
    "    \n",
    "    def min(self):\n",
    "        for key in self.dict:\n",
    "            if not isinstance(self.dict[key][0],str):\n",
    "                print(key, min(self.dict[key]), sep=\"\\t\")\n",
    "    \n",
    "    def max(self):\n",
    "        for key in self.dict:\n",
    "            if not isinstance(self.dict[key][0],str):\n",
    "                print(key, max(self.dict[key]), sep=\"\\t\")\n",
    "    \n",
    "    def mean(self):\n",
    "        for key in self.dict:\n",
    "            #Error Handling to screen out\n",
    "            if not isinstance(self.dict[key][0],str):\n",
    "                print(key, '{0:.2f}'.format((sum(self.dict[key])/ len(self.dict[key])), sep=\"\\t\"))\n"
   ]
  },
  {
   "cell_type": "code",
   "execution_count": null,
   "metadata": {},
   "outputs": [],
   "source": [
    "d = {'Sun Hours': [4.5,4.0,5.1,5],\n",
    "     'Max Temp': [19.6,19.1,19.6,20.0],\n",
    "     'Min Temp': [12.7,12.5,13.3,12.1],\n",
    "     'Rain (mm)': [82,109,65,76],\n",
    "     'Rain Days': [13,20,10,9.7]}"
   ]
  },
  {
   "cell_type": "code",
   "execution_count": null,
   "metadata": {},
   "outputs": [],
   "source": [
    "dfe = MyDataFrame(d=\"dfdsf\")"
   ]
  },
  {
   "cell_type": "code",
   "execution_count": null,
   "metadata": {},
   "outputs": [],
   "source": [
    "df1 = MyDataFrame(d)"
   ]
  },
  {
   "cell_type": "code",
   "execution_count": null,
   "metadata": {},
   "outputs": [],
   "source": [
    "df2 = MyDataFrame(d, index = ['Clare', 'Galway','Dublin', 'Wexford'])"
   ]
  },
  {
   "cell_type": "code",
   "execution_count": null,
   "metadata": {},
   "outputs": [],
   "source": [
    "df2.print()"
   ]
  },
  {
   "cell_type": "code",
   "execution_count": null,
   "metadata": {},
   "outputs": [],
   "source": [
    "df2.sort_values('Rain (mm)')"
   ]
  },
  {
   "cell_type": "code",
   "execution_count": null,
   "metadata": {},
   "outputs": [],
   "source": [
    "df2.sort_values('Rain')"
   ]
  },
  {
   "cell_type": "code",
   "execution_count": null,
   "metadata": {},
   "outputs": [],
   "source": [
    "df2.sort_values()"
   ]
  },
  {
   "cell_type": "code",
   "execution_count": null,
   "metadata": {},
   "outputs": [],
   "source": [
    "df2.print()"
   ]
  },
  {
   "cell_type": "code",
   "execution_count": null,
   "metadata": {},
   "outputs": [],
   "source": [
    "df1.print()"
   ]
  },
  {
   "cell_type": "code",
   "execution_count": null,
   "metadata": {},
   "outputs": [],
   "source": [
    "df2.min()"
   ]
  },
  {
   "cell_type": "code",
   "execution_count": null,
   "metadata": {},
   "outputs": [],
   "source": [
    "df2.max()"
   ]
  },
  {
   "cell_type": "code",
   "execution_count": null,
   "metadata": {},
   "outputs": [],
   "source": [
    "df2.mean()"
   ]
  },
  {
   "cell_type": "code",
   "execution_count": null,
   "metadata": {},
   "outputs": [],
   "source": [
    "films = {'Rank': [112,62,41,172,230,176],\n",
    "        'Release Year': [1973,1980,1960,2015,1976,1996],\n",
    "        'IMDB Rating': [8.3,8.4,8.5,8.1,8.1,8.1],\n",
    "        'Time (minutes)': [129,146,109,118,120,98],\n",
    "        'Main Genre': ['Comedy','Horror','Horror','Drama','Drama','Drama']}\n",
    "f_names = ['Sting','Shining', 'Psycho','Room','Rocky','Fargo']\n"
   ]
  },
  {
   "cell_type": "code",
   "execution_count": null,
   "metadata": {},
   "outputs": [],
   "source": [
    "films_df =  MyDataFrame(films, index = f_names) \n",
    "films_df.print()"
   ]
  },
  {
   "cell_type": "code",
   "execution_count": null,
   "metadata": {},
   "outputs": [],
   "source": [
    "films_df.mean()"
   ]
  },
  {
   "cell_type": "code",
   "execution_count": null,
   "metadata": {},
   "outputs": [],
   "source": []
  },
  {
   "cell_type": "code",
   "execution_count": null,
   "metadata": {},
   "outputs": [],
   "source": []
  },
  {
   "cell_type": "code",
   "execution_count": null,
   "metadata": {},
   "outputs": [],
   "source": []
  }
 ],
 "metadata": {
  "kernelspec": {
   "display_name": "Python 3",
   "language": "python",
   "name": "python3"
  },
  "language_info": {
   "codemirror_mode": {
    "name": "ipython",
    "version": 3
   },
   "file_extension": ".py",
   "mimetype": "text/x-python",
   "name": "python",
   "nbconvert_exporter": "python",
   "pygments_lexer": "ipython3",
   "version": "3.7.6"
  }
 },
 "nbformat": 4,
 "nbformat_minor": 4
}
