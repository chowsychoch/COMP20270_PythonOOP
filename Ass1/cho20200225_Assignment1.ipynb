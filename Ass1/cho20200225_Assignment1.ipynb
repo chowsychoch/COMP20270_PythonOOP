{
 "cells": [
  {
   "cell_type": "code",
   "execution_count": 3,
   "metadata": {},
   "outputs": [],
   "source": [
    "class Activity():\n",
    "    \n",
    "    def __init__(self,event,name):\n",
    "        self.total_amount = 0 \n",
    "        self.credit = {}\n",
    "        self.debit = {}\n",
    "        self.expense = {}\n",
    "        self.reconsilation ={}\n",
    "\n",
    "        self.event = event\n",
    "        self.name = [] \n",
    "        self.name= name.split(',')\n",
    "\n",
    "    def add_transaction(self, expense_name, amount, payeeID):\n",
    "        if payeeID not in self.name:\n",
    "            print('Sorry, this person has not joined the event.')\n",
    "        if not (isinstance(amount,int)or isinstance(amount,float)):\n",
    "            print('Amount must be a number')\n",
    "            return\n",
    "        if amount <0:        \n",
    "            print('Amount must be a positive number')\n",
    "            return \n",
    "        self.amount = float(amount)\n",
    "        if not payeeID in self.expense:\n",
    "            self.expense[payeeID] = self.amount\n",
    "        else:\n",
    "            self.expense[payeeID]+= self.amount\n",
    "        self.total_amount += self.amount\n",
    "                                                                                                                                                                     \n",
    "    \n",
    "    def set_average(self):\n",
    "        ans = self.total_amount / len(self.expense)\n",
    "        ans = \"{:.2f}\".format(ans)\n",
    "        return ans\n",
    "    \n",
    "    def print_reconsilation(self):\n",
    "        print(\"Total: €\",self.total_amount ,'that is €',self.set_average(),'each.' )\n",
    "    \n",
    "    def get_balance(self,name):\n",
    "        if name in self.expense:\n",
    "            balance = self.expense[name] - float(self.set_average())\n",
    "            if balance < 0:\n",
    "                self.debit[name] = -balance\n",
    "            else:\n",
    "                self.credit[name] = balance\n",
    "            return balance\n",
    "    \n",
    "    def set_balance(self,name):\n",
    "        return print(name, 'has balance €',self.get_balance(name))\n",
    "\n",
    "    def set_reconsilation(self):\n",
    "        \n",
    "        for creditor in self.credit:\n",
    "            while self.credit[creditor] != 0:\n",
    "                    for debtor in self.debit:\n",
    "                        if self.credit[creditor] > self.debit[debtor]:\n",
    "                            print( debtor,'pay',creditor,'€',self.debit[debtor] )\n",
    "                            self.credit[creditor] = self.credit[creditor] - self.debit[debtor] \n",
    "                            self.debit[debtor] = 0\n",
    "                        else:\n",
    "                            print( debtor,'pay',creditor,'€',self.credit[creditor])\n",
    "                            self.debit[debtor] = self.debit[debtor] - self.credit[creditor]\n",
    "                            self.credit[creditor] = 0\n",
    "                            "
   ]
  },
  {
   "cell_type": "markdown",
   "metadata": {},
   "source": [
    "Class variable ```Activity``` takes 2 parameters: event name and members of events as string. In first sample, I set up with a instance variable called sample1"
   ]
  },
  {
   "cell_type": "code",
   "execution_count": 115,
   "metadata": {},
   "outputs": [],
   "source": [
    "sample1 = Activity('concert','Annie,Sally,Bill')"
   ]
  },
  {
   "cell_type": "markdown",
   "metadata": {},
   "source": [
    "Method ```add_transaction``` has to be called everytime a member has paid for the event.\n",
    "Error Handling for ```amount``` and ```payee``` has set up to filter the possible error "
   ]
  },
  {
   "cell_type": "code",
   "execution_count": 116,
   "metadata": {},
   "outputs": [
    {
     "data": {
      "text/plain": [
       "['Annie', 'Sally', 'Bill']"
      ]
     },
     "execution_count": 116,
     "metadata": {},
     "output_type": "execute_result"
    }
   ],
   "source": [
    "sample1.name"
   ]
  },
  {
   "cell_type": "code",
   "execution_count": 117,
   "metadata": {},
   "outputs": [],
   "source": [
    "sample1.add_transaction('ticket', 180, 'Annie')"
   ]
  },
  {
   "cell_type": "code",
   "execution_count": 118,
   "metadata": {},
   "outputs": [],
   "source": [
    "sample1.add_transaction('dinner', 75, 'Sally')"
   ]
  },
  {
   "cell_type": "code",
   "execution_count": 119,
   "metadata": {},
   "outputs": [],
   "source": [
    "sample1.add_transaction('drinks', 19, 'Bill')"
   ]
  },
  {
   "cell_type": "code",
   "execution_count": 120,
   "metadata": {},
   "outputs": [],
   "source": [
    "sample1.add_transaction('taxi', 16, 'Bill')"
   ]
  },
  {
   "cell_type": "markdown",
   "metadata": {},
   "source": [
    "# Output Sample 1 "
   ]
  },
  {
   "cell_type": "markdown",
   "metadata": {},
   "source": [
    " For the output, we have to call method ```print_reconsilation()```"
   ]
  },
  {
   "cell_type": "code",
   "execution_count": 121,
   "metadata": {},
   "outputs": [
    {
     "name": "stdout",
     "output_type": "stream",
     "text": [
      "Total: € 290.0 that is € 96.67 each.\n"
     ]
    }
   ],
   "source": [
    "sample1.print_reconsilation()"
   ]
  },
  {
   "cell_type": "markdown",
   "metadata": {},
   "source": [
    "For each member, we have to call method ```sample1.set_balance``` to calculate their balance."
   ]
  },
  {
   "cell_type": "code",
   "execution_count": 122,
   "metadata": {},
   "outputs": [
    {
     "name": "stdout",
     "output_type": "stream",
     "text": [
      "Sally has balance € -21.67\n"
     ]
    }
   ],
   "source": [
    "sample1.set_balance('Sally')"
   ]
  },
  {
   "cell_type": "code",
   "execution_count": 123,
   "metadata": {},
   "outputs": [
    {
     "name": "stdout",
     "output_type": "stream",
     "text": [
      "Bill has balance € -61.67\n"
     ]
    }
   ],
   "source": [
    "sample1.set_balance('Bill')"
   ]
  },
  {
   "cell_type": "code",
   "execution_count": 124,
   "metadata": {},
   "outputs": [
    {
     "name": "stdout",
     "output_type": "stream",
     "text": [
      "Annie has balance € 83.33\n"
     ]
    }
   ],
   "source": [
    "sample1.set_balance('Annie')"
   ]
  },
  {
   "cell_type": "markdown",
   "metadata": {},
   "source": [
    "And finally the method ```set_reconsilation()```"
   ]
  },
  {
   "cell_type": "code",
   "execution_count": 125,
   "metadata": {},
   "outputs": [
    {
     "name": "stdout",
     "output_type": "stream",
     "text": [
      "Sally pay Annie € 21.67\n",
      "Bill pay Annie € 61.66\n"
     ]
    }
   ],
   "source": [
    "sample1.set_reconsilation()"
   ]
  },
  {
   "cell_type": "markdown",
   "metadata": {},
   "source": [
    "# Output Sample 2"
   ]
  },
  {
   "cell_type": "code",
   "execution_count": 126,
   "metadata": {},
   "outputs": [],
   "source": [
    "sample2 = Activity('cinema','Cathy,Robin,Jen')"
   ]
  },
  {
   "cell_type": "code",
   "execution_count": 127,
   "metadata": {},
   "outputs": [],
   "source": [
    "sample2.add_transaction('tickets', 33, 'Cathy')"
   ]
  },
  {
   "cell_type": "code",
   "execution_count": 128,
   "metadata": {},
   "outputs": [],
   "source": [
    "sample2.add_transaction('dinner', 60, 'Robin')"
   ]
  },
  {
   "cell_type": "code",
   "execution_count": 129,
   "metadata": {},
   "outputs": [],
   "source": [
    "sample2.add_transaction('drinks', 21, 'Jen')"
   ]
  },
  {
   "cell_type": "code",
   "execution_count": 130,
   "metadata": {},
   "outputs": [],
   "source": [
    "sample2.add_transaction('taxi', 27, 'Jen')"
   ]
  },
  {
   "cell_type": "code",
   "execution_count": 131,
   "metadata": {},
   "outputs": [
    {
     "name": "stdout",
     "output_type": "stream",
     "text": [
      "Total: € 141.0 that is € 47.00 each.\n"
     ]
    }
   ],
   "source": [
    "sample2.print_reconsilation()"
   ]
  },
  {
   "cell_type": "code",
   "execution_count": 132,
   "metadata": {},
   "outputs": [
    {
     "name": "stdout",
     "output_type": "stream",
     "text": [
      "Cathy has balance € -14.0\n"
     ]
    }
   ],
   "source": [
    "sample2.set_balance('Cathy')"
   ]
  },
  {
   "cell_type": "code",
   "execution_count": 133,
   "metadata": {},
   "outputs": [
    {
     "name": "stdout",
     "output_type": "stream",
     "text": [
      "Robin has balance € 13.0\n"
     ]
    }
   ],
   "source": [
    "sample2.set_balance('Robin')"
   ]
  },
  {
   "cell_type": "code",
   "execution_count": 134,
   "metadata": {},
   "outputs": [
    {
     "name": "stdout",
     "output_type": "stream",
     "text": [
      "Jen has balance € 1.0\n"
     ]
    }
   ],
   "source": [
    "sample2.set_balance('Jen')"
   ]
  },
  {
   "cell_type": "code",
   "execution_count": 135,
   "metadata": {},
   "outputs": [
    {
     "name": "stdout",
     "output_type": "stream",
     "text": [
      "Cathy pay Robin € 13.0\n",
      "Cathy pay Jen € 1.0\n"
     ]
    }
   ],
   "source": [
    "sample2.set_reconsilation()"
   ]
  },
  {
   "cell_type": "markdown",
   "metadata": {},
   "source": [
    "# Output Sample 3"
   ]
  },
  {
   "cell_type": "code",
   "execution_count": 136,
   "metadata": {},
   "outputs": [],
   "source": [
    "sample3 = Activity('cinema','Nora,Eva,Frankie,Harry')"
   ]
  },
  {
   "cell_type": "code",
   "execution_count": 137,
   "metadata": {},
   "outputs": [],
   "source": [
    "sample3.add_transaction('dinner', 110, 'Nora')"
   ]
  },
  {
   "cell_type": "code",
   "execution_count": 138,
   "metadata": {},
   "outputs": [],
   "source": [
    "sample3.add_transaction('lunch', 60, 'Eva')"
   ]
  },
  {
   "cell_type": "code",
   "execution_count": 139,
   "metadata": {},
   "outputs": [],
   "source": [
    "sample3.add_transaction('lunch', 70, 'Harry')"
   ]
  },
  {
   "cell_type": "code",
   "execution_count": 140,
   "metadata": {},
   "outputs": [],
   "source": [
    "sample3.add_transaction('dinner', 125, 'Frankie')"
   ]
  },
  {
   "cell_type": "code",
   "execution_count": 141,
   "metadata": {},
   "outputs": [
    {
     "name": "stdout",
     "output_type": "stream",
     "text": [
      "Nora has balance € 18.75\n"
     ]
    }
   ],
   "source": [
    "sample3.set_balance('Nora')"
   ]
  },
  {
   "cell_type": "code",
   "execution_count": 142,
   "metadata": {},
   "outputs": [
    {
     "name": "stdout",
     "output_type": "stream",
     "text": [
      "Eva has balance € -31.25\n"
     ]
    }
   ],
   "source": [
    "sample3.set_balance('Eva')"
   ]
  },
  {
   "cell_type": "code",
   "execution_count": 143,
   "metadata": {},
   "outputs": [
    {
     "name": "stdout",
     "output_type": "stream",
     "text": [
      "Harry has balance € -21.25\n"
     ]
    }
   ],
   "source": [
    "sample3.set_balance('Harry')"
   ]
  },
  {
   "cell_type": "code",
   "execution_count": 144,
   "metadata": {},
   "outputs": [
    {
     "name": "stdout",
     "output_type": "stream",
     "text": [
      "Frankie has balance € 33.75\n"
     ]
    }
   ],
   "source": [
    "sample3.set_balance('Frankie')"
   ]
  },
  {
   "cell_type": "code",
   "execution_count": 145,
   "metadata": {},
   "outputs": [
    {
     "name": "stdout",
     "output_type": "stream",
     "text": [
      "Eva pay Nora € 18.75\n",
      "Harry pay Nora € 0\n",
      "Eva pay Frankie € 12.5\n",
      "Harry pay Frankie € 21.25\n"
     ]
    }
   ],
   "source": [
    "sample3.set_reconsilation()"
   ]
  },
  {
   "cell_type": "code",
   "execution_count": 146,
   "metadata": {},
   "outputs": [
    {
     "name": "stdout",
     "output_type": "stream",
     "text": [
      "Total: € 365.0 that is € 91.25 each.\n"
     ]
    }
   ],
   "source": [
    "sample3.print_reconsilation()"
   ]
  },
  {
   "cell_type": "code",
   "execution_count": null,
   "metadata": {},
   "outputs": [],
   "source": []
  },
  {
   "cell_type": "code",
   "execution_count": 43,
   "metadata": {},
   "outputs": [],
   "source": [
    "sample4 = Activity('christmas','MCN,LM,BC,Liu,CC,Ball')"
   ]
  },
  {
   "cell_type": "code",
   "execution_count": 44,
   "metadata": {},
   "outputs": [],
   "source": [
    "sample4.add_transaction('dinner', 460, 'Ball')"
   ]
  },
  {
   "cell_type": "code",
   "execution_count": 45,
   "metadata": {},
   "outputs": [],
   "source": [
    "sample4.add_transaction('dinner', 210, 'MCN')"
   ]
  },
  {
   "cell_type": "code",
   "execution_count": 46,
   "metadata": {},
   "outputs": [],
   "source": [
    "sample4.add_transaction('dinner', 67, 'Liu')"
   ]
  },
  {
   "cell_type": "code",
   "execution_count": 47,
   "metadata": {},
   "outputs": [],
   "source": [
    "sample4.add_transaction('dinner', 302, 'BC')"
   ]
  },
  {
   "cell_type": "code",
   "execution_count": 48,
   "metadata": {},
   "outputs": [
    {
     "name": "stdout",
     "output_type": "stream",
     "text": [
      "Ball has balance € 200.25\n"
     ]
    }
   ],
   "source": [
    "sample4.set_balance('Ball')"
   ]
  },
  {
   "cell_type": "code",
   "execution_count": 49,
   "metadata": {},
   "outputs": [
    {
     "name": "stdout",
     "output_type": "stream",
     "text": [
      "MCN has balance € -49.75\n"
     ]
    }
   ],
   "source": [
    "sample4.set_balance('MCN')"
   ]
  },
  {
   "cell_type": "code",
   "execution_count": 50,
   "metadata": {},
   "outputs": [
    {
     "name": "stdout",
     "output_type": "stream",
     "text": [
      "Liu has balance € -192.75\n"
     ]
    }
   ],
   "source": [
    "sample4.set_balance('Liu')"
   ]
  },
  {
   "cell_type": "code",
   "execution_count": 51,
   "metadata": {},
   "outputs": [
    {
     "name": "stdout",
     "output_type": "stream",
     "text": [
      "BC has balance € 42.25\n"
     ]
    }
   ],
   "source": [
    "sample4.set_balance('BC')"
   ]
  },
  {
   "cell_type": "code",
   "execution_count": 52,
   "metadata": {},
   "outputs": [
    {
     "name": "stdout",
     "output_type": "stream",
     "text": [
      "Liu has balance € -192.75\n"
     ]
    }
   ],
   "source": [
    "sample4.set_balance('Liu')"
   ]
  },
  {
   "cell_type": "code",
   "execution_count": 53,
   "metadata": {},
   "outputs": [
    {
     "name": "stdout",
     "output_type": "stream",
     "text": [
      "CC has balance € None\n"
     ]
    }
   ],
   "source": [
    "sample4.set_balance('CC')"
   ]
  },
  {
   "cell_type": "code",
   "execution_count": 54,
   "metadata": {},
   "outputs": [
    {
     "name": "stdout",
     "output_type": "stream",
     "text": [
      "MCN pay Ball € 49.75\n",
      "Liu pay Ball € 150.5\n",
      "MCN pay BC € 0\n",
      "Liu pay BC € 42.25\n"
     ]
    }
   ],
   "source": [
    "sample4.set_reconsilation()"
   ]
  },
  {
   "cell_type": "code",
   "execution_count": null,
   "metadata": {},
   "outputs": [],
   "source": []
  },
  {
   "cell_type": "code",
   "execution_count": null,
   "metadata": {},
   "outputs": [],
   "source": []
  }
 ],
 "metadata": {
  "kernelspec": {
   "display_name": "Python 3",
   "language": "python",
   "name": "python3"
  },
  "language_info": {
   "codemirror_mode": {
    "name": "ipython",
    "version": 3
   },
   "file_extension": ".py",
   "mimetype": "text/x-python",
   "name": "python",
   "nbconvert_exporter": "python",
   "pygments_lexer": "ipython3",
   "version": "3.7.6"
  }
 },
 "nbformat": 4,
 "nbformat_minor": 4
}
